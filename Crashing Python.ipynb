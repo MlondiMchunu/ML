{
 "cells": [
  {
   "cell_type": "code",
   "execution_count": 1,
   "id": "981bf2c5",
   "metadata": {},
   "outputs": [],
   "source": [
    "nest = [1,2,3,[4,5,['target','yes']]]"
   ]
  },
  {
   "cell_type": "code",
   "execution_count": 2,
   "id": "6d8e3a3c",
   "metadata": {
    "scrolled": true
   },
   "outputs": [
    {
     "data": {
      "text/plain": [
       "[1, 2, 3, [4, 5, ['target', 'yes']]]"
      ]
     },
     "execution_count": 2,
     "metadata": {},
     "output_type": "execute_result"
    }
   ],
   "source": [
    "nest"
   ]
  },
  {
   "cell_type": "code",
   "execution_count": 3,
   "id": "685385af",
   "metadata": {
    "scrolled": true
   },
   "outputs": [
    {
     "data": {
      "text/plain": [
       "'target'"
      ]
     },
     "execution_count": 3,
     "metadata": {},
     "output_type": "execute_result"
    }
   ],
   "source": [
    "nest[3][2][-2]"
   ]
  },
  {
   "cell_type": "code",
   "execution_count": 4,
   "id": "77897a8f",
   "metadata": {},
   "outputs": [],
   "source": [
    "d = {'k1':{'innerkey':[1,2,3]}}"
   ]
  },
  {
   "cell_type": "code",
   "execution_count": 5,
   "id": "64348a02",
   "metadata": {
    "scrolled": true
   },
   "outputs": [
    {
     "data": {
      "text/plain": [
       "3"
      ]
     },
     "execution_count": 5,
     "metadata": {},
     "output_type": "execute_result"
    }
   ],
   "source": [
    "d['k1']['innerkey'][2]"
   ]
  },
  {
   "cell_type": "code",
   "execution_count": 6,
   "id": "bb0557ee",
   "metadata": {},
   "outputs": [],
   "source": [
    "a = (True == False)\n",
    "b = (True == True)"
   ]
  },
  {
   "cell_type": "code",
   "execution_count": 7,
   "id": "120b10e4",
   "metadata": {
    "scrolled": true
   },
   "outputs": [
    {
     "data": {
      "text/plain": [
       "False"
      ]
     },
     "execution_count": 7,
     "metadata": {},
     "output_type": "execute_result"
    }
   ],
   "source": [
    "a == b"
   ]
  },
  {
   "cell_type": "code",
   "execution_count": 8,
   "id": "298ce7a7",
   "metadata": {},
   "outputs": [],
   "source": [
    "my_list = [1,2,3,'ty']\n",
    "t = (1,2,3,'tr')"
   ]
  },
  {
   "cell_type": "code",
   "execution_count": 9,
   "id": "eded5c93",
   "metadata": {},
   "outputs": [
    {
     "name": "stdout",
     "output_type": "stream",
     "text": [
      "<class 'tuple'>\n",
      "<class 'list'>\n"
     ]
    }
   ],
   "source": [
    "print(type(t))\n",
    "print(type(my_list))"
   ]
  },
  {
   "cell_type": "code",
   "execution_count": 10,
   "id": "6a9a5d3b",
   "metadata": {
    "scrolled": true
   },
   "outputs": [
    {
     "data": {
      "text/plain": [
       "False"
      ]
     },
     "execution_count": 10,
     "metadata": {},
     "output_type": "execute_result"
    }
   ],
   "source": [
    "my_list == t"
   ]
  },
  {
   "cell_type": "code",
   "execution_count": 11,
   "id": "70d5f8b4",
   "metadata": {
    "scrolled": true
   },
   "outputs": [
    {
     "data": {
      "text/plain": [
       "{4, 6, 65, 'yt'}"
      ]
     },
     "execution_count": 11,
     "metadata": {},
     "output_type": "execute_result"
    }
   ],
   "source": [
    "my_set = {4,65,6,4,'yt'}\n",
    "my_set"
   ]
  },
  {
   "cell_type": "code",
   "execution_count": 12,
   "id": "57838105",
   "metadata": {
    "scrolled": true
   },
   "outputs": [
    {
     "data": {
      "text/plain": [
       "'yt'"
      ]
     },
     "execution_count": 12,
     "metadata": {},
     "output_type": "execute_result"
    }
   ],
   "source": [
    "my_set.pop()"
   ]
  },
  {
   "cell_type": "code",
   "execution_count": 13,
   "id": "6f20f1b9",
   "metadata": {
    "scrolled": true
   },
   "outputs": [
    {
     "data": {
      "text/plain": [
       "{4, 6, 65}"
      ]
     },
     "execution_count": 13,
     "metadata": {},
     "output_type": "execute_result"
    }
   ],
   "source": [
    "my_set"
   ]
  },
  {
   "cell_type": "code",
   "execution_count": 14,
   "id": "f1dcb01f",
   "metadata": {},
   "outputs": [],
   "source": [
    "if True:\n",
    "    x = 5"
   ]
  },
  {
   "cell_type": "code",
   "execution_count": 15,
   "id": "052e66f6",
   "metadata": {
    "scrolled": true
   },
   "outputs": [
    {
     "data": {
      "text/plain": [
       "5"
      ]
     },
     "execution_count": 15,
     "metadata": {},
     "output_type": "execute_result"
    }
   ],
   "source": [
    "x"
   ]
  },
  {
   "cell_type": "code",
   "execution_count": 16,
   "id": "de35643d",
   "metadata": {
    "scrolled": true
   },
   "outputs": [
    {
     "name": "stdout",
     "output_type": "stream",
     "text": [
      "i = 1\n",
      "i = 2\n",
      "i = 3\n",
      "i = 4\n"
     ]
    }
   ],
   "source": [
    "i = 1\n",
    "while i < 5:\n",
    "    print(\"i = {}\".format(i))\n",
    "    i = i+1\n"
   ]
  },
  {
   "cell_type": "code",
   "execution_count": 20,
   "id": "169326ac",
   "metadata": {},
   "outputs": [],
   "source": [
    "x = [1,3,5,6,7]"
   ]
  },
  {
   "cell_type": "code",
   "execution_count": 21,
   "id": "4ef12257",
   "metadata": {},
   "outputs": [
    {
     "name": "stdout",
     "output_type": "stream",
     "text": [
      "[1, 9, 25, 36, 49]\n"
     ]
    }
   ],
   "source": [
    "li = []\n",
    "for num in x:\n",
    "    li.append(num**2)\n",
    "print(li)"
   ]
  },
  {
   "cell_type": "code",
   "execution_count": 25,
   "id": "6c6c7550",
   "metadata": {},
   "outputs": [],
   "source": [
    "#list comprehension\n",
    "out = [num**2 for num in x]"
   ]
  },
  {
   "cell_type": "code",
   "execution_count": 26,
   "id": "ecf062df",
   "metadata": {},
   "outputs": [
    {
     "data": {
      "text/plain": [
       "[1, 9, 25, 36, 49]"
      ]
     },
     "execution_count": 26,
     "metadata": {},
     "output_type": "execute_result"
    }
   ],
   "source": [
    "out"
   ]
  },
  {
   "cell_type": "code",
   "execution_count": 36,
   "id": "5e79a255",
   "metadata": {},
   "outputs": [
    {
     "name": "stdout",
     "output_type": "stream",
     "text": [
      "Hello Mlondi\n"
     ]
    }
   ],
   "source": [
    "def funct(name = \"Default name\"):\n",
    "    print(\"Hello {}\".format(name))\n",
    "    \n",
    "funct(\"Mlondi\")"
   ]
  },
  {
   "cell_type": "code",
   "execution_count": 61,
   "id": "03798967",
   "metadata": {},
   "outputs": [
    {
     "name": "stdout",
     "output_type": "stream",
     "text": [
      "25\n"
     ]
    }
   ],
   "source": [
    "def square(num):\n",
    "    \"\"\"\n",
    "    This is a DOCSTRING\n",
    "    CAN GO MULTIPLE LINES.\n",
    "    THIS FUNCTION SQUARES A NUMBER\n",
    "    \"\"\"\n",
    "    return num**2\n",
    "\n",
    "output = square(5)\n",
    "print(output)"
   ]
  },
  {
   "cell_type": "markdown",
   "id": "51d87643",
   "metadata": {},
   "source": [
    "### map and lambda functions"
   ]
  },
  {
   "cell_type": "code",
   "execution_count": 42,
   "id": "924e45d3",
   "metadata": {},
   "outputs": [
    {
     "name": "stdout",
     "output_type": "stream",
     "text": [
      "12\n"
     ]
    }
   ],
   "source": [
    "def times2(var):\n",
    "    return var *2\n",
    "print(times2(6))"
   ]
  },
  {
   "cell_type": "code",
   "execution_count": 94,
   "id": "34937b49",
   "metadata": {},
   "outputs": [],
   "source": [
    "#map()\n",
    "seq = [1,2,3,4,5]\n",
    "tup = (6,7,8,9)"
   ]
  },
  {
   "cell_type": "code",
   "execution_count": 47,
   "id": "cbc74e09",
   "metadata": {},
   "outputs": [
    {
     "name": "stdout",
     "output_type": "stream",
     "text": [
      "[2, 4, 6, 8, 10]\n"
     ]
    }
   ],
   "source": [
    "li =[]\n",
    "for num in seq:\n",
    "    li.append(times2(num))\n",
    "print(li)"
   ]
  },
  {
   "cell_type": "code",
   "execution_count": 60,
   "id": "73a1a629",
   "metadata": {},
   "outputs": [
    {
     "data": {
      "text/plain": [
       "[2, 4, 6, 8, 10]"
      ]
     },
     "execution_count": 60,
     "metadata": {},
     "output_type": "execute_result"
    }
   ],
   "source": [
    "#applying map function\n",
    "map(times2,seq)\n",
    "list(map(times2,seq))"
   ]
  },
  {
   "cell_type": "code",
   "execution_count": 80,
   "id": "0d6d9893",
   "metadata": {},
   "outputs": [
    {
     "data": {
      "text/plain": [
       "[2, 4, 6, 8, 10]"
      ]
     },
     "execution_count": 80,
     "metadata": {},
     "output_type": "execute_result"
    }
   ],
   "source": [
    "#rewrite times2 function using lambda expression\n",
    "t = lambda var: var * 2\n",
    "t(67)\n",
    "\n",
    "list(map(lambda var: var*2,seq))"
   ]
  },
  {
   "cell_type": "code",
   "execution_count": 99,
   "id": "0fe4d38a",
   "metadata": {},
   "outputs": [
    {
     "name": "stdout",
     "output_type": "stream",
     "text": [
      "[6, 8]\n"
     ]
    },
    {
     "data": {
      "text/plain": [
       "(2, 4)"
      ]
     },
     "execution_count": 99,
     "metadata": {},
     "output_type": "execute_result"
    }
   ],
   "source": [
    "print(list(filter(lambda num: num%2 == 0,tup)))\n",
    "tuple((filter(lambda num: num%2 == 0,seq)))"
   ]
  },
  {
   "cell_type": "markdown",
   "id": "640e8162",
   "metadata": {},
   "source": [
    "### Tuple unpacking"
   ]
  },
  {
   "cell_type": "code",
   "execution_count": 104,
   "id": "3f8ecea1",
   "metadata": {},
   "outputs": [
    {
     "name": "stdout",
     "output_type": "stream",
     "text": [
      "(1, 2)\n",
      "(3, 4)\n",
      "(5, 6)\n",
      "(7, 8)\n"
     ]
    }
   ],
   "source": [
    "ax = [(1,2),(3,4),(5,6),(7,8)]\n",
    "\n",
    "for a in ax:\n",
    "    print(a)"
   ]
  },
  {
   "cell_type": "code",
   "execution_count": 109,
   "id": "410ac77c",
   "metadata": {},
   "outputs": [
    {
     "name": "stdout",
     "output_type": "stream",
     "text": [
      "1 2\n",
      "3 4\n",
      "5 6\n",
      "7 8\n"
     ]
    }
   ],
   "source": [
    "for (a,b) in ax:\n",
    "    print(a,b)"
   ]
  },
  {
   "cell_type": "code",
   "execution_count": null,
   "id": "8ccfb331",
   "metadata": {},
   "outputs": [],
   "source": []
  }
 ],
 "metadata": {
  "kernelspec": {
   "display_name": "Python 3 (ipykernel)",
   "language": "python",
   "name": "python3"
  },
  "language_info": {
   "codemirror_mode": {
    "name": "ipython",
    "version": 3
   },
   "file_extension": ".py",
   "mimetype": "text/x-python",
   "name": "python",
   "nbconvert_exporter": "python",
   "pygments_lexer": "ipython3",
   "version": "3.9.13"
  }
 },
 "nbformat": 4,
 "nbformat_minor": 5
}
