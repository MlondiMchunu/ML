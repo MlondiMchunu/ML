{
 "cells": [
  {
   "cell_type": "code",
   "execution_count": 1,
   "id": "77adcc33",
   "metadata": {},
   "outputs": [],
   "source": [
    "import numpy as np"
   ]
  },
  {
   "cell_type": "code",
   "execution_count": 2,
   "id": "2d95070f",
   "metadata": {},
   "outputs": [],
   "source": [
    "my_list = [1,2,3,4,5]"
   ]
  },
  {
   "cell_type": "code",
   "execution_count": 3,
   "id": "8b6315bf",
   "metadata": {},
   "outputs": [
    {
     "data": {
      "text/plain": [
       "array([1, 2, 3, 4, 5])"
      ]
     },
     "execution_count": 3,
     "metadata": {},
     "output_type": "execute_result"
    }
   ],
   "source": [
    "np.array(my_list)"
   ]
  },
  {
   "cell_type": "code",
   "execution_count": 4,
   "id": "588343e3",
   "metadata": {},
   "outputs": [
    {
     "data": {
      "text/plain": [
       "array([ 2,  3,  4,  5,  6,  7,  8,  9, 10, 11, 12, 13, 14, 15, 16, 17, 18,\n",
       "       19, 20, 21, 22, 23, 24, 25])"
      ]
     },
     "execution_count": 4,
     "metadata": {},
     "output_type": "execute_result"
    }
   ],
   "source": [
    "arr = np.arange(2,26)\n",
    "arr"
   ]
  },
  {
   "cell_type": "code",
   "execution_count": 5,
   "id": "e0349db3",
   "metadata": {},
   "outputs": [
    {
     "data": {
      "text/plain": [
       "array([[ 2,  3,  4,  5,  6,  7],\n",
       "       [ 8,  9, 10, 11, 12, 13],\n",
       "       [14, 15, 16, 17, 18, 19],\n",
       "       [20, 21, 22, 23, 24, 25]])"
      ]
     },
     "execution_count": 5,
     "metadata": {},
     "output_type": "execute_result"
    }
   ],
   "source": [
    "arr.reshape(4,6)"
   ]
  },
  {
   "cell_type": "code",
   "execution_count": 6,
   "id": "720ea181",
   "metadata": {},
   "outputs": [
    {
     "data": {
      "text/plain": [
       "5"
      ]
     },
     "execution_count": 6,
     "metadata": {},
     "output_type": "execute_result"
    }
   ],
   "source": [
    "arr[3]"
   ]
  },
  {
   "cell_type": "code",
   "execution_count": 7,
   "id": "d462f6a6",
   "metadata": {},
   "outputs": [],
   "source": [
    "arr_2d = np.array([[2,45,3],[65,4,8],[8,9,2]])"
   ]
  },
  {
   "cell_type": "code",
   "execution_count": 8,
   "id": "9e909dae",
   "metadata": {},
   "outputs": [
    {
     "data": {
      "text/plain": [
       "array([[ 2, 45,  3],\n",
       "       [65,  4,  8],\n",
       "       [ 8,  9,  2]])"
      ]
     },
     "execution_count": 8,
     "metadata": {},
     "output_type": "execute_result"
    }
   ],
   "source": [
    "arr_2d"
   ]
  },
  {
   "cell_type": "code",
   "execution_count": 9,
   "id": "eca3dc13",
   "metadata": {},
   "outputs": [
    {
     "data": {
      "text/plain": [
       "array([65,  4])"
      ]
     },
     "execution_count": 9,
     "metadata": {},
     "output_type": "execute_result"
    }
   ],
   "source": [
    "arr_2d[1][:2]"
   ]
  },
  {
   "cell_type": "code",
   "execution_count": 10,
   "id": "5998e73b",
   "metadata": {},
   "outputs": [],
   "source": [
    "bool_arr = arr > 5"
   ]
  },
  {
   "cell_type": "code",
   "execution_count": 12,
   "id": "6fc821df",
   "metadata": {},
   "outputs": [
    {
     "data": {
      "text/plain": [
       "array([ 6,  7,  8,  9, 10, 11, 12, 13, 14, 15, 16, 17, 18, 19, 20, 21, 22,\n",
       "       23, 24, 25])"
      ]
     },
     "execution_count": 12,
     "metadata": {},
     "output_type": "execute_result"
    }
   ],
   "source": [
    "arr[bool_arr]"
   ]
  },
  {
   "cell_type": "code",
   "execution_count": 13,
   "id": "60bba9ac",
   "metadata": {},
   "outputs": [
    {
     "data": {
      "text/plain": [
       "array([2, 3, 4, 5, 6])"
      ]
     },
     "execution_count": 13,
     "metadata": {},
     "output_type": "execute_result"
    }
   ],
   "source": [
    "arr[arr<7]"
   ]
  },
  {
   "cell_type": "code",
   "execution_count": 14,
   "id": "f0c2c5a1",
   "metadata": {},
   "outputs": [],
   "source": [
    "ar2d = np.arange(50).reshape(5,10)"
   ]
  },
  {
   "cell_type": "code",
   "execution_count": 15,
   "id": "a6a024bb",
   "metadata": {},
   "outputs": [
    {
     "data": {
      "text/plain": [
       "array([[ 0,  1,  2,  3,  4,  5,  6,  7,  8,  9],\n",
       "       [10, 11, 12, 13, 14, 15, 16, 17, 18, 19],\n",
       "       [20, 21, 22, 23, 24, 25, 26, 27, 28, 29],\n",
       "       [30, 31, 32, 33, 34, 35, 36, 37, 38, 39],\n",
       "       [40, 41, 42, 43, 44, 45, 46, 47, 48, 49]])"
      ]
     },
     "execution_count": 15,
     "metadata": {},
     "output_type": "execute_result"
    }
   ],
   "source": [
    "ar2d"
   ]
  },
  {
   "cell_type": "code",
   "execution_count": 19,
   "id": "15576a9b",
   "metadata": {},
   "outputs": [
    {
     "data": {
      "text/plain": [
       "array([[13, 14],\n",
       "       [23, 24]])"
      ]
     },
     "execution_count": 19,
     "metadata": {},
     "output_type": "execute_result"
    }
   ],
   "source": [
    "ar2d[1:3,3:5]"
   ]
  },
  {
   "cell_type": "code",
   "execution_count": 22,
   "id": "69505952",
   "metadata": {},
   "outputs": [
    {
     "data": {
      "text/plain": [
       "array([[0, 1, 2, 3, 4, 5, 6, 7, 8, 9]])"
      ]
     },
     "execution_count": 22,
     "metadata": {},
     "output_type": "execute_result"
    }
   ],
   "source": [
    "ar2d[:1,]"
   ]
  },
  {
   "cell_type": "markdown",
   "id": "f30b5b17",
   "metadata": {},
   "source": [
    "### NumPy Operatons"
   ]
  },
  {
   "cell_type": "code",
   "execution_count": 23,
   "id": "8c3d3383",
   "metadata": {},
   "outputs": [
    {
     "name": "stderr",
     "output_type": "stream",
     "text": [
      "/var/folders/jr/gmkpvjsn5bg6fn2p7nsnqwb00000gn/T/ipykernel_4505/989016373.py:1: RuntimeWarning: divide by zero encountered in true_divide\n",
      "  ar2d/0\n",
      "/var/folders/jr/gmkpvjsn5bg6fn2p7nsnqwb00000gn/T/ipykernel_4505/989016373.py:1: RuntimeWarning: invalid value encountered in true_divide\n",
      "  ar2d/0\n"
     ]
    },
    {
     "data": {
      "text/plain": [
       "array([[nan, inf, inf, inf, inf, inf, inf, inf, inf, inf],\n",
       "       [inf, inf, inf, inf, inf, inf, inf, inf, inf, inf],\n",
       "       [inf, inf, inf, inf, inf, inf, inf, inf, inf, inf],\n",
       "       [inf, inf, inf, inf, inf, inf, inf, inf, inf, inf],\n",
       "       [inf, inf, inf, inf, inf, inf, inf, inf, inf, inf]])"
      ]
     },
     "execution_count": 23,
     "metadata": {},
     "output_type": "execute_result"
    }
   ],
   "source": [
    "ar2d/0"
   ]
  },
  {
   "cell_type": "code",
   "execution_count": null,
   "id": "382e0c85",
   "metadata": {},
   "outputs": [],
   "source": []
  }
 ],
 "metadata": {
  "kernelspec": {
   "display_name": "Python 3 (ipykernel)",
   "language": "python",
   "name": "python3"
  },
  "language_info": {
   "codemirror_mode": {
    "name": "ipython",
    "version": 3
   },
   "file_extension": ".py",
   "mimetype": "text/x-python",
   "name": "python",
   "nbconvert_exporter": "python",
   "pygments_lexer": "ipython3",
   "version": "3.9.13"
  }
 },
 "nbformat": 4,
 "nbformat_minor": 5
}
